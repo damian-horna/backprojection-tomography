{
 "cells": [
  {
   "cell_type": "code",
   "execution_count": 50,
   "metadata": {},
   "outputs": [],
   "source": [
    "import numpy as np\n",
    "import matplotlib.pyplot as plt"
   ]
  },
  {
   "cell_type": "code",
   "execution_count": 51,
   "metadata": {},
   "outputs": [
    {
     "data": {
      "text/plain": [
       "<matplotlib.image.AxesImage at 0x1a7762ab198>"
      ]
     },
     "execution_count": 51,
     "metadata": {},
     "output_type": "execute_result"
    },
    {
     "data": {
      "image/png": "[encoded data removed]",
      "text/plain": [
       "<Figure size 432x288 with 1 Axes>"
      ]
     },
     "metadata": {
      "needs_background": "light"
     },
     "output_type": "display_data"
    }
   ],
   "source": [
    "#testArr = np.zeros((400,400))\n",
    "#plt.imshow(testArr, cmap='gray')"
   ]
  },
  {
   "cell_type": "code",
   "execution_count": 52,
   "metadata": {},
   "outputs": [],
   "source": [
    "def bresenham(p0, p1):\n",
    "    pts = []\n",
    "    x0, y0 = p0\n",
    "    x1, y1 = p1\n",
    "\n",
    "    dx = abs(x1-x0)\n",
    "    dy = abs(y1-y0)\n",
    "    \n",
    "    if x0 < x1:\n",
    "        sx = 1\n",
    "    else:\n",
    "        sx = -1\n",
    "        \n",
    "    if y0 < y1:\n",
    "        sy = 1\n",
    "    else:\n",
    "        sy = -1\n",
    "        \n",
    "    err = dx-dy\n",
    "    while True:\n",
    "        pts.append((x0,y0))\n",
    "        if x0 == x1 and y0 == y1:\n",
    "            return pts\n",
    "        \n",
    "        e2 = 2*err\n",
    "        if e2 > -dy:\n",
    "            # overshot in the y direction\n",
    "            err = err - dy\n",
    "            x0 = x0 + sx\n",
    "        if e2 < dx:\n",
    "            # overshot in the x direction\n",
    "            err = err + dx\n",
    "            y0 = y0 + sy"
   ]
  },
  {
   "cell_type": "code",
   "execution_count": 53,
   "metadata": {},
   "outputs": [
    {
     "data": {
      "text/plain": [
       "[(1, 2), (2, 2), (3, 3), (4, 3), (5, 4)]"
      ]
     },
     "execution_count": 53,
     "metadata": {},
     "output_type": "execute_result"
    }
   ],
   "source": [
    "bresenham((1,2),(5,4))"
   ]
  },
  {
   "cell_type": "code",
   "execution_count": 54,
   "metadata": {},
   "outputs": [],
   "source": [
    "for point in bresenham((0,0),(399,399)):\n",
    "    testArr[point] = 1"
   ]
  },
  {
   "cell_type": "code",
   "execution_count": 55,
   "metadata": {},
   "outputs": [
    {
     "data": {
      "text/plain": [
       "<matplotlib.image.AxesImage at 0x1a776459048>"
      ]
     },
     "execution_count": 55,
     "metadata": {},
     "output_type": "execute_result"
    },
    {
     "data": {
      "image/png": "[encoded data removed]",
      "text/plain": [
       "<Figure size 432x288 with 1 Axes>"
      ]
     },
     "metadata": {
      "needs_background": "light"
     },
     "output_type": "display_data"
    }
   ],
   "source": [
    "#plt.imshow(testArr, cmap='gray')"
   ]
  }
 ],
 "metadata": {
  "kernelspec": {
   "display_name": "Python 3",
   "language": "python",
   "name": "python3"
  },
  "language_info": {
   "codemirror_mode": {
    "name": "ipython",
    "version": 3
   },
   "file_extension": ".py",
   "mimetype": "text/x-python",
   "name": "python",
   "nbconvert_exporter": "python",
   "pygments_lexer": "ipython3",
   "version": "3.7.1"
  }
 },
 "nbformat": 4,
 "nbformat_minor": 2
}
