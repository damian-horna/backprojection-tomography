{
 "cells": [
  {
   "cell_type": "code",
   "execution_count": 2,
   "metadata": {},
   "outputs": [],
   "source": [
    "import numpy as np\n",
    "import matplotlib.pyplot as plt\n",
    "import math\n",
    "import cv2\n",
    "import pydicom\n",
    "from pydicom.data import get_testdata_files\n",
    "from ipywidgets import widgets, Layout, interact\n",
    "from IPython.display import display\n",
    "from IPython.display import clear_output"
   ]
  },
  {
   "cell_type": "markdown",
   "metadata": {},
   "source": [
    "### Core"
   ]
  },
  {
   "cell_type": "code",
   "execution_count": 3,
   "metadata": {},
   "outputs": [],
   "source": [
    "def bresenham(p0, p1):\n",
    "    pts = []\n",
    "    x0, y0 = p0\n",
    "    x1, y1 = p1\n",
    "\n",
    "    dx = abs(x1-x0)\n",
    "    dy = abs(y1-y0)\n",
    "    \n",
    "    if x0 < x1:\n",
    "        sx = 1\n",
    "    else:\n",
    "        sx = -1\n",
    "        \n",
    "    if y0 < y1:\n",
    "        sy = 1\n",
    "    else:\n",
    "        sy = -1\n",
    "        \n",
    "    err = dx-dy\n",
    "    while True:\n",
    "        pts.append((x0,y0))\n",
    "        if x0 == x1 and y0 == y1:\n",
    "            return pts\n",
    "        \n",
    "        e2 = 2*err\n",
    "        if e2 > -dy:\n",
    "            # overshot in the y direction\n",
    "            err = err - dy\n",
    "            x0 = x0 + sx\n",
    "        if e2 < dx:\n",
    "            # overshot in the x direction\n",
    "            err = err + dx\n",
    "            y0 = y0 + sy\n",
    "            \n",
    "            \n",
    "def rotate_line(line, origin, angle):\n",
    "    origin_x, origin_y = origin\n",
    "    rotated_line = []\n",
    "    for point in line:\n",
    "        x, y = point\n",
    "        rotated_x = int(origin_x + math.cos(angle) * (x - origin_x) - math.sin(angle) * (y - origin_y))\n",
    "        rotated_y = int(origin_y + math.sin(angle) * (x - origin_x) + math.cos(angle) * (y - origin_y))\n",
    "        rotated_line.append((rotated_x, rotated_y))\n",
    "    return rotated_line\n",
    "\n",
    "#generates emitters and detectors vertically\n",
    "def gen_emitters_and_detectors(n, angle, gray):\n",
    "    x,y = gray.shape\n",
    "    r=math.sqrt(x**2 + y**2)/2\n",
    "    l = int(2 * (r * math.sin((angle*math.pi/180)/2) ))\n",
    "    emitters = [(int(pos),int(y/2 + r)) for pos in np.linspace(int(x/2 - l/2), int(x/2 + l/2), n)]\n",
    "    detectors = [(int(pos),int(y/2 - r)) for pos in np.linspace(int(x/2 - l/2), int(x/2 + l/2), n)]\n",
    "    return emitters, detectors\n",
    "\n",
    "\n",
    "def gen_sinogram(n,angle, alphaStepDeg, img):\n",
    "    gray =  cv2.cvtColor(img, cv2.COLOR_BGR2GRAY)\n",
    "    x,y = gray.shape\n",
    "    lines = []\n",
    "    all_lines=[]\n",
    "    em, det = gen_emitters_and_detectors(n, angle, gray)\n",
    "    for p1,p2 in zip(em, det):\n",
    "        lines.append(bresenham(p1,p2))\n",
    "        \n",
    "    sinogram = np.zeros((n, int(360/alphaStepDeg)))\n",
    "    i=0\n",
    "    for alpha in range(0,360,alphaStepDeg):\n",
    "        rotated = []\n",
    "        for line in lines:\n",
    "            rot_line = rotate_line(line, (int(x/2), int(y/2)), (alpha/180)*math.pi)\n",
    "            new_line = [(px ,py) for px,py in rot_line if 0 < px < x and 0 < py < y]\n",
    "            rotated.append(new_line)\n",
    "            \n",
    "        all_lines.append(rotated)\n",
    "        for j, line in enumerate(rotated):\n",
    "            sinogram[j,i] = sum([gray[point] for point in line])\n",
    "        i+=1\n",
    "        \n",
    "    sinogram = sinogram / sinogram.max()\n",
    "    return sinogram, all_lines\n",
    "\n",
    "def restore_picture(sinogram, lines, picture_shape):\n",
    "    x,y = picture_shape[0], picture_shape[1]\n",
    "    b = max(picture_shape)\n",
    "    \n",
    "    restoration = np.zeros((x,y)) \n",
    "    count_matrix = np.zeros((x,y))\n",
    "    \n",
    "    for i, lines_for_alpha in enumerate(lines):\n",
    "        for j, line in enumerate(lines_for_alpha):\n",
    "            for px, py in line:\n",
    "                    restoration[px,py] += sinogram[j, i]\n",
    "                    count_matrix[px,py] += 1\n",
    "                    \n",
    "    for i in range(count_matrix.shape[0]):\n",
    "        for j in range(count_matrix.shape[1]):\n",
    "            if count_matrix[i,j] != 0:\n",
    "                restoration[i,j] /= count_matrix[i,j]\n",
    "                \n",
    "    return restoration\n",
    "\n",
    "def conv1d(X,H):\n",
    "    m=len(X);\n",
    "    n=len(H);\n",
    "    Y = np.zeros(m+n-1)\n",
    "    for i in range(n + m -1):\n",
    "        Y[i]=0;\n",
    "        for j in range(m):\n",
    "            if i-j+1>0 and i-j+1<len(H):\n",
    "                Y[i]=Y[i]+X[j]*H[i-j+1]\n",
    "    return Y\n",
    "\n",
    "def conv1d_simple(sinus, simple_kernel):\n",
    "    copy = sinus.copy()\n",
    "    for i in range(1,len(sinus)-1):\n",
    "        copy[i] = simple_kernel[0]*sinus[i-1] + simple_kernel[1] *sinus[i] + simple_kernel[2]*sinus[i+1]\n",
    "    return copy\n",
    "\n",
    "\n",
    "def genKernel(size):\n",
    "    kernel = []\n",
    "    for i in range(-int(size/2), int(size/2)):\n",
    "        if i == 0:\n",
    "            kernel.append(1)\n",
    "        elif i % 2 == 0:\n",
    "            kernel.append(0)\n",
    "        else:\n",
    "            kernel.append((-4/(math.pi**2))/i**2)    \n",
    "    return kernel\n",
    "\n",
    "def convolve_sinogram(sinogram):\n",
    "    copy = np.zeros(sinogram.shape)\n",
    "    for i in range(sinogram.shape[1]):\n",
    "        convolution = conv1d(sinogram[:,i], genKernel(len(sinogram[:,i])))\n",
    "        convolution = np.append(convolution, 0)\n",
    "        copy[:,i] = convolution.reshape(-1, 2).mean(axis=1)\n",
    "    return copy\n",
    "\n",
    "\n",
    "def convolve_simple(sinogram, simple_kernel):\n",
    "    copy = np.zeros(sinogram.shape)\n",
    "    for i in range(sinogram.shape[1]):\n",
    "        convolution = conv1d_simple(sinogram[:,i], simple_kernel)\n",
    "        copy[:,i] = convolution\n",
    "    return copy"
   ]
  },
  {
   "cell_type": "markdown",
   "metadata": {},
   "source": [
    "### Interactive core"
   ]
  },
  {
   "cell_type": "code",
   "execution_count": null,
   "metadata": {},
   "outputs": [],
   "source": [
    "def i_gen_sinogram(n,angle, alphaStepDeg, img):\n",
    "    gray =  cv2.cvtColor(img, cv2.COLOR_BGR2GRAY)\n",
    "    x,y = gray.shape\n",
    "    lines = []\n",
    "    all_lines=[]\n",
    "    em, det = gen_emitters_and_detectors(n, angle, gray)\n",
    "    for p1,p2 in zip(em, det):\n",
    "        lines.append(bresenham(p1,p2))\n",
    "        \n",
    "    sinogram = np.zeros((n, int(360/alphaStepDeg)))\n",
    "    i=0\n",
    "    for alpha in range(0,360,alphaStepDeg):\n",
    "        rotated = []\n",
    "        for line in lines:\n",
    "            rot_line = rotate_line(line, (int(x/2), int(y/2)), (alpha/180)*math.pi)\n",
    "            new_line = [(px ,py) for px,py in rot_line if 0 < px < x and 0 < py < y]\n",
    "            rotated.append(new_line)\n",
    "            \n",
    "        all_lines.append(rotated)\n",
    "        for j, line in enumerate(rotated):\n",
    "            sinogram[j,i] = sum([gray[point] for point in line])\n",
    "        i+=1\n",
    "        \n",
    "    sinogram = sinogram / sinogram.max()\n",
    "    return sinogram, all_lines"
   ]
  },
  {
   "cell_type": "markdown",
   "metadata": {},
   "source": [
    "### Interface"
   ]
  },
  {
   "cell_type": "code",
   "execution_count": 10,
   "metadata": {
    "scrolled": false
   },
   "outputs": [
    {
     "data": {
      "application/vnd.jupyter.widget-view+json": {
       "model_id": "2b771d343cb94d4bb51b06a4e0941626",
       "version_major": 2,
       "version_minor": 0
      },
      "text/plain": [
       "Text(value='img/skull3.JPG', placeholder='filename')"
      ]
     },
     "metadata": {},
     "output_type": "display_data"
    },
    {
     "data": {
      "application/vnd.jupyter.widget-view+json": {
       "model_id": "239164854fce417f92e5b43267e8fbe6",
       "version_major": 2,
       "version_minor": 0
      },
      "text/plain": [
       "IntText(value=100, description='resize x_dim to:')"
      ]
     },
     "metadata": {},
     "output_type": "display_data"
    },
    {
     "data": {
      "application/vnd.jupyter.widget-view+json": {
       "model_id": "9b074a7a2d8940f3a6d8d57a9a4f81fd",
       "version_major": 2,
       "version_minor": 0
      },
      "text/plain": [
       "IntText(value=100, description='resize y_dim to:')"
      ]
     },
     "metadata": {},
     "output_type": "display_data"
    },
    {
     "data": {
      "application/vnd.jupyter.widget-view+json": {
       "model_id": "a87b4256469c4211b9b07a10208346cd",
       "version_major": 2,
       "version_minor": 0
      },
      "text/plain": [
       "IntText(value=180, description='l (deg)')"
      ]
     },
     "metadata": {},
     "output_type": "display_data"
    },
    {
     "data": {
      "application/vnd.jupyter.widget-view+json": {
       "model_id": "f937a5a1bf0647c4aa928215ac05b79c",
       "version_major": 2,
       "version_minor": 0
      },
      "text/plain": [
       "IntText(value=50, description='n (detectors)')"
      ]
     },
     "metadata": {},
     "output_type": "display_data"
    },
    {
     "data": {
      "application/vnd.jupyter.widget-view+json": {
       "model_id": "599babf793b144608b6c6e9f9cc46685",
       "version_major": 2,
       "version_minor": 0
      },
      "text/plain": [
       "IntText(value=2, description='∆α (deg)')"
      ]
     },
     "metadata": {},
     "output_type": "display_data"
    },
    {
     "data": {
      "application/vnd.jupyter.widget-view+json": {
       "model_id": "bccb956d0127435e85a882174f963501",
       "version_major": 2,
       "version_minor": 0
      },
      "text/plain": [
       "Checkbox(value=False, description='filtering')"
      ]
     },
     "metadata": {},
     "output_type": "display_data"
    },
    {
     "data": {
      "application/vnd.jupyter.widget-view+json": {
       "model_id": "3907f94b249c44059aa08d7eedaf0de2",
       "version_major": 2,
       "version_minor": 0
      },
      "text/plain": [
       "Checkbox(value=False, description='show intermediate steps')"
      ]
     },
     "metadata": {},
     "output_type": "display_data"
    },
    {
     "data": {
      "application/vnd.jupyter.widget-view+json": {
       "model_id": "0cc017c12f0342218a16485f6ddc6684",
       "version_major": 2,
       "version_minor": 0
      },
      "text/plain": [
       "Button(button_style='success', description='Run', style=ButtonStyle())"
      ]
     },
     "metadata": {},
     "output_type": "display_data"
    }
   ],
   "source": [
    "filename_text = widgets.Text(\n",
    "    placeholder='filename',\n",
    "    disabled=False,\n",
    "    value='img/skull3.JPG'\n",
    ")\n",
    "\n",
    "x_dim = widgets.IntText(\n",
    "    value=100,\n",
    "    description='resize x_dim to:',\n",
    "    disabled=False\n",
    ")\n",
    "\n",
    "y_dim = widgets.IntText(\n",
    "    value=100,\n",
    "    description='resize y_dim to:',\n",
    "    disabled=False\n",
    ")\n",
    "\n",
    "l_val = widgets.IntText(\n",
    "    value=180,\n",
    "    description='l (deg)',\n",
    "    disabled=False\n",
    ")\n",
    "\n",
    "n_val = widgets.IntText(\n",
    "    value=50,\n",
    "    description='n (detectors)',\n",
    "    disabled=False\n",
    ")\n",
    "\n",
    "step = widgets.IntText(\n",
    "    value=2,\n",
    "    description='∆α (deg)',\n",
    "    disabled=False\n",
    ")\n",
    "\n",
    "run_button = widgets.Button(\n",
    "    description='Run',\n",
    "    disabled=False,\n",
    "    button_style='success', # 'success', 'info', 'warning', 'danger' or ''\n",
    ")\n",
    "\n",
    "clear_button = widgets.Button(\n",
    "    description='Clear',\n",
    "    disabled=False,\n",
    "    button_style='info', # 'success', 'info', 'warning', 'danger' or ''\n",
    ")\n",
    "\n",
    "filtering_checkbox = widgets.Checkbox(\n",
    "    value=False,\n",
    "    description='filtering',\n",
    "    disabled=False\n",
    ")\n",
    "\n",
    "show_intermediate_steps = widgets.Checkbox(\n",
    "    value=False,\n",
    "    description='show intermediate steps',\n",
    "    disabled=False\n",
    ")\n",
    "\n",
    "def show_img(img):\n",
    "    fig = plt.figure(figsize=(8, 8))\n",
    "    plt.imshow(img, cmap='gray')\n",
    "    plt.show()\n",
    "\n",
    "    \n",
    "def display_interface():\n",
    "    display(filename_text)\n",
    "    display(x_dim)\n",
    "    display(y_dim)\n",
    "    display(l_val)\n",
    "    display(n_val)\n",
    "    display(step)\n",
    "    display(filtering_checkbox)\n",
    "    display(show_intermediate_steps)\n",
    "    display(run_button)\n",
    "    \n",
    "def clear(arg):\n",
    "    clear_output(True)\n",
    "    display_interface()\n",
    "    \n",
    "    \n",
    "def transform_without_intermediate_steps():\n",
    "    print(\"Reading an image...\")\n",
    "    img = plt.imread(filename_text.value)\n",
    "    show_img(img)\n",
    "    img = cv2.resize(img,(x_dim.value,y_dim.value))\n",
    "    print(\"Generating sinogram...\")\n",
    "    sinogram, lines = gen_sinogram(n_val.value, l_val.value, step.value, img)\n",
    "    show_img(sinogram)   \n",
    "    print(\"Backprojection without convolution...\")\n",
    "    restored = restore_picture(sinogram, lines, img.shape)\n",
    "    show_img(restored)\n",
    "    if filtering_checkbox.value == True:\n",
    "        print(\"Performing convolution...\")\n",
    "        convolved_sinogram = convolve_simple(sinogram, [-2,5.5,-2])\n",
    "        copy = convolved_sinogram.copy()\n",
    "        convolved_sinogram = convolved_sinogram / convolved_sinogram.max()\n",
    "        convolved_sinogram[copy < 0] = 0\n",
    "        print(\"Convolved sinogram:\")\n",
    "        show_img(convolved_sinogram)\n",
    "        print(\"Backprojection from convolved sinogram...\")\n",
    "        restored = restore_picture(convolved_sinogram, lines, img.shape)\n",
    "        show_img(restored)\n",
    "        print(\"Gamma correction:\")\n",
    "        restored = restored ** 2\n",
    "        restored = restored / restored.max()\n",
    "        restored = restored * 255\n",
    "        show_img(restored)\n",
    "    \n",
    "def transform_interactively():   \n",
    "    print(\"Reading an image...\")\n",
    "    img = plt.imread(filename_text.value)\n",
    "    show_img(img)\n",
    "    img = cv2.resize(img,(x_dim.value,y_dim.value))\n",
    "    print(\"Generating sinogram...\")\n",
    "    sinogram, lines = gen_sinogram(n_val.value, l_val.value, step.value, img)\n",
    "    show_img(sinogram)   \n",
    "    print(\"Backprojection without convolution...\")\n",
    "    restored = restore_picture(sinogram, lines, img.shape)\n",
    "    show_img(restored)\n",
    "    if filtering_checkbox.value == True:\n",
    "        print(\"Performing convolution...\")\n",
    "        convolved_sinogram = convolve_simple(sinogram, [-2,5.5,-2])\n",
    "        copy = convolved_sinogram.copy()\n",
    "        convolved_sinogram = convolved_sinogram / convolved_sinogram.max()\n",
    "        convolved_sinogram[copy < 0] = 0\n",
    "        print(\"Convolved sinogram:\")\n",
    "        show_img(convolved_sinogram)\n",
    "        print(\"Backprojection from convolved sinogram...\")\n",
    "        restored = restore_picture(convolved_sinogram, lines, img.shape)\n",
    "        show_img(restored)\n",
    "        print(\"Gamma correction:\")\n",
    "        restored = restored ** 2\n",
    "        restored = restored / restored.max()\n",
    "        restored = restored * 255\n",
    "        show_img(restored)\n",
    "    \n",
    "def run_transformation(arg):\n",
    "    if show_intermediate_steps.value == True:\n",
    "        transform_interactively()\n",
    "    else:\n",
    "        transform_without_intermediate_steps()\n",
    "    display(clear_button)\n",
    "\n",
    "display_interface()\n",
    "clear_button.on_click(clear)\n",
    "run_button.on_click(run_transformation)"
   ]
  }
 ],
 "metadata": {
  "kernelspec": {
   "display_name": "Python 3",
   "language": "python",
   "name": "python3"
  }
 },
 "nbformat": 4,
 "nbformat_minor": 2
}
