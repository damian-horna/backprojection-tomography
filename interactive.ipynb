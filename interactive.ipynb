{
 "cells": [
  {
   "cell_type": "code",
   "execution_count": 1,
   "metadata": {},
   "outputs": [],
   "source": [
    "import numpy as np\n",
    "import matplotlib.pyplot as plt\n",
    "import math\n",
    "import cv2\n",
    "import pydicom\n",
    "from pydicom.data import get_testdata_files\n",
    "from ipywidgets import widgets, Layout, interact\n",
    "from IPython.display import display\n",
    "from IPython.display import clear_output"
   ]
  },
  {
   "cell_type": "markdown",
   "metadata": {},
   "source": [
    "### Core"
   ]
  },
  {
   "cell_type": "code",
   "execution_count": 2,
   "metadata": {},
   "outputs": [],
   "source": [
    "def bresenham(p0, p1):\n",
    "    pts = []\n",
    "    x0, y0 = p0\n",
    "    x1, y1 = p1\n",
    "\n",
    "    dx = abs(x1-x0)\n",
    "    dy = abs(y1-y0)\n",
    "    \n",
    "    if x0 < x1:\n",
    "        sx = 1\n",
    "    else:\n",
    "        sx = -1\n",
    "        \n",
    "    if y0 < y1:\n",
    "        sy = 1\n",
    "    else:\n",
    "        sy = -1\n",
    "        \n",
    "    err = dx-dy\n",
    "    while True:\n",
    "        pts.append((x0,y0))\n",
    "        if x0 == x1 and y0 == y1:\n",
    "            return pts\n",
    "        \n",
    "        e2 = 2*err\n",
    "        if e2 > -dy:\n",
    "            # overshot in the y direction\n",
    "            err = err - dy\n",
    "            x0 = x0 + sx\n",
    "        if e2 < dx:\n",
    "            # overshot in the x direction\n",
    "            err = err + dx\n",
    "            y0 = y0 + sy\n",
    "            \n",
    "            \n",
    "def rotate_line(line, origin, angle):\n",
    "    origin_x, origin_y = origin\n",
    "    rotated_line = []\n",
    "    for point in line:\n",
    "        x, y = point\n",
    "        rotated_x = int(origin_x + math.cos(angle) * (x - origin_x) - math.sin(angle) * (y - origin_y))\n",
    "        rotated_y = int(origin_y + math.sin(angle) * (x - origin_x) + math.cos(angle) * (y - origin_y))\n",
    "        rotated_line.append((rotated_x, rotated_y))\n",
    "    return rotated_line\n",
    "\n",
    "#generates emitters and detectors vertically\n",
    "def gen_emitters_and_detectors(n, angle, gray):\n",
    "    x,y = gray.shape\n",
    "    r=math.sqrt(x**2 + y**2)/2\n",
    "    l = int(2 * (r * math.sin((angle*math.pi/180)/2) ))\n",
    "    emitters = [(int(pos),int(y/2 + r)) for pos in np.linspace(int(x/2 - l/2), int(x/2 + l/2), n)]\n",
    "    detectors = [(int(pos),int(y/2 - r)) for pos in np.linspace(int(x/2 - l/2), int(x/2 + l/2), n)]\n",
    "    return emitters, detectors\n",
    "\n",
    "\n",
    "def gen_sinogram(n,angle, alphaStepDeg, img):\n",
    "    gray =  cv2.cvtColor(img, cv2.COLOR_BGR2GRAY)\n",
    "    x,y = gray.shape\n",
    "    lines = []\n",
    "    all_lines=[]\n",
    "    em, det = gen_emitters_and_detectors(n, angle, gray)\n",
    "    for p1,p2 in zip(em, det):\n",
    "        lines.append(bresenham(p1,p2))\n",
    "        \n",
    "    sinogram = np.zeros((n, math.ceil(360/alphaStepDeg)))\n",
    "    i=0\n",
    "    for alpha in range(0,360,alphaStepDeg):\n",
    "        rotated = []\n",
    "        for line in lines:\n",
    "            rot_line = rotate_line(line, (int(x/2), int(y/2)), (alpha/180)*math.pi)\n",
    "            new_line = [(px ,py) for px,py in rot_line if 0 < px < x and 0 < py < y]\n",
    "            rotated.append(new_line)\n",
    "            \n",
    "        all_lines.append(rotated)\n",
    "        for j, line in enumerate(rotated):\n",
    "            sinogram[j,i] = sum([gray[point] for point in line])\n",
    "        i+=1\n",
    "        \n",
    "    sinogram = sinogram / sinogram.max()\n",
    "    return sinogram, all_lines\n",
    "\n",
    "def restore_picture(sinogram, lines, picture_shape):\n",
    "    x,y = picture_shape[0], picture_shape[1]\n",
    "    b = max(picture_shape)\n",
    "    \n",
    "    restoration = np.zeros((x,y)) \n",
    "    count_matrix = np.zeros((x,y))\n",
    "    \n",
    "    for i, lines_for_alpha in enumerate(lines):\n",
    "        for j, line in enumerate(lines_for_alpha):\n",
    "            for px, py in line:\n",
    "                    restoration[px,py] += sinogram[j, i]\n",
    "                    count_matrix[px,py] += 1\n",
    "                    \n",
    "    for i in range(count_matrix.shape[0]):\n",
    "        for j in range(count_matrix.shape[1]):\n",
    "            if count_matrix[i,j] != 0:\n",
    "                restoration[i,j] /= count_matrix[i,j]\n",
    "                \n",
    "    return restoration\n",
    "\n",
    "def conv1d(X,H):\n",
    "    m=len(X);\n",
    "    n=len(H);\n",
    "    Y = np.zeros(m+n-1)\n",
    "    for i in range(n + m -1):\n",
    "        Y[i]=0;\n",
    "        for j in range(m):\n",
    "            if i-j+1>0 and i-j+1<len(H):\n",
    "                Y[i]=Y[i]+X[j]*H[i-j+1]\n",
    "    return Y\n",
    "\n",
    "def conv1d_simple(sinus, simple_kernel):\n",
    "    copy = sinus.copy()\n",
    "    for i in range(1,len(sinus)-1):\n",
    "        copy[i] = simple_kernel[0]*sinus[i-1] + simple_kernel[1] *sinus[i] + simple_kernel[2]*sinus[i+1]\n",
    "    return copy\n",
    "\n",
    "\n",
    "def genKernel(size):\n",
    "    kernel = []\n",
    "    for i in range(-int(size/2), int(size/2)):\n",
    "        if i == 0:\n",
    "            kernel.append(1)\n",
    "        elif i % 2 == 0:\n",
    "            kernel.append(0)\n",
    "        else:\n",
    "            kernel.append((-4/(math.pi**2))/i**2)    \n",
    "    return kernel\n",
    "\n",
    "def convolve_sinogram(sinogram):\n",
    "    copy = np.zeros(sinogram.shape)\n",
    "    for i in range(sinogram.shape[1]):\n",
    "        convolution = conv1d(sinogram[:,i], genKernel(len(sinogram[:,i])))\n",
    "        convolution = np.append(convolution, 0)\n",
    "        copy[:,i] = convolution.reshape(-1, 2).mean(axis=1)\n",
    "    return copy\n",
    "\n",
    "\n",
    "def convolve_simple(sinogram, simple_kernel):\n",
    "    copy = np.zeros(sinogram.shape)\n",
    "    for i in range(sinogram.shape[1]):\n",
    "        convolution = conv1d_simple(sinogram[:,i], simple_kernel)\n",
    "        copy[:,i] = convolution\n",
    "    return copy"
   ]
  },
  {
   "cell_type": "markdown",
   "metadata": {},
   "source": [
    "### Interactive core"
   ]
  },
  {
   "cell_type": "code",
   "execution_count": 3,
   "metadata": {},
   "outputs": [],
   "source": [
    "def i_gen_sinogram(n,angle, alphaStepDeg, img):\n",
    "    gray =  cv2.cvtColor(img, cv2.COLOR_BGR2GRAY)\n",
    "    x,y = gray.shape\n",
    "    lines = []\n",
    "    all_lines=[]\n",
    "    em, det = gen_emitters_and_detectors(n, angle, gray)\n",
    "    for p1,p2 in zip(em, det):\n",
    "        lines.append(bresenham(p1,p2))\n",
    "        \n",
    "    sinogram = np.zeros((n, int(360/alphaStepDeg)))\n",
    "    i=0\n",
    "    for alpha in range(0,360,alphaStepDeg):\n",
    "        rotated = []\n",
    "        for line in lines:\n",
    "            rot_line = rotate_line(line, (int(x/2), int(y/2)), (alpha/180)*math.pi)\n",
    "            new_line = [(px ,py) for px,py in rot_line if 0 < px < x and 0 < py < y]\n",
    "            rotated.append(new_line)\n",
    "            \n",
    "        all_lines.append(rotated)\n",
    "        for j, line in enumerate(rotated):\n",
    "            sinogram[j,i] = sum([gray[point] for point in line])\n",
    "        i+=1\n",
    "        \n",
    "    sinogram = sinogram / sinogram.max()\n",
    "    return sinogram, all_lines"
   ]
  },
  {
   "cell_type": "markdown",
   "metadata": {},
   "source": [
    "### Interface"
   ]
  },
  {
   "cell_type": "code",
   "execution_count": 4,
   "metadata": {
    "scrolled": false
   },
   "outputs": [
    {
     "data": {
      "application/vnd.jupyter.widget-view+json": {
       "model_id": "50886813861b4dc6b4086978384af204",
       "version_major": 2,
       "version_minor": 0
      },
      "text/plain": [
       "Text(value='img/skull3.JPG', placeholder='filename')"
      ]
     },
     "metadata": {},
     "output_type": "display_data"
    },
    {
     "data": {
      "application/vnd.jupyter.widget-view+json": {
       "model_id": "c72242c4c30b4c64829103f5cd88fe91",
       "version_major": 2,
       "version_minor": 0
      },
      "text/plain": [
       "IntText(value=100, description='resize x_dim to:')"
      ]
     },
     "metadata": {},
     "output_type": "display_data"
    },
    {
     "data": {
      "application/vnd.jupyter.widget-view+json": {
       "model_id": "98bb292b254f4ce289b7f4902571eb60",
       "version_major": 2,
       "version_minor": 0
      },
      "text/plain": [
       "IntText(value=100, description='resize y_dim to:')"
      ]
     },
     "metadata": {},
     "output_type": "display_data"
    },
    {
     "data": {
      "application/vnd.jupyter.widget-view+json": {
       "model_id": "cb0e5db39ab445479649e0598429c95f",
       "version_major": 2,
       "version_minor": 0
      },
      "text/plain": [
       "IntText(value=180, description='l (deg)')"
      ]
     },
     "metadata": {},
     "output_type": "display_data"
    },
    {
     "data": {
      "application/vnd.jupyter.widget-view+json": {
       "model_id": "ae970615ceae44b2b29addfc0593b65b",
       "version_major": 2,
       "version_minor": 0
      },
      "text/plain": [
       "IntText(value=50, description='n (detectors)')"
      ]
     },
     "metadata": {},
     "output_type": "display_data"
    },
    {
     "data": {
      "application/vnd.jupyter.widget-view+json": {
       "model_id": "9ead2082f6144f32bc40ee3e8ddc61e2",
       "version_major": 2,
       "version_minor": 0
      },
      "text/plain": [
       "IntText(value=2, description='∆α (deg)')"
      ]
     },
     "metadata": {},
     "output_type": "display_data"
    },
    {
     "data": {
      "application/vnd.jupyter.widget-view+json": {
       "model_id": "27401059bba743df82a95f291fe63a3b",
       "version_major": 2,
       "version_minor": 0
      },
      "text/plain": [
       "Checkbox(value=False, description='filtering')"
      ]
     },
     "metadata": {},
     "output_type": "display_data"
    },
    {
     "data": {
      "application/vnd.jupyter.widget-view+json": {
       "model_id": "c0b9d8b245b44d2f91421f1920f33213",
       "version_major": 2,
       "version_minor": 0
      },
      "text/plain": [
       "Checkbox(value=False, description='show intermediate steps')"
      ]
     },
     "metadata": {},
     "output_type": "display_data"
    },
    {
     "data": {
      "application/vnd.jupyter.widget-view+json": {
       "model_id": "01db48d55e814523bbdead5c90bb1d5f",
       "version_major": 2,
       "version_minor": 0
      },
      "text/plain": [
       "Button(button_style='success', description='Run', style=ButtonStyle())"
      ]
     },
     "metadata": {},
     "output_type": "display_data"
    }
   ],
   "source": [
    "filename_text = widgets.Text(\n",
    "    placeholder='filename',\n",
    "    disabled=False,\n",
    "    value='img/skull3.JPG'\n",
    ")\n",
    "\n",
    "x_dim = widgets.IntText(\n",
    "    value=100,\n",
    "    description='resize x_dim to:',\n",
    "    disabled=False\n",
    ")\n",
    "\n",
    "y_dim = widgets.IntText(\n",
    "    value=100,\n",
    "    description='resize y_dim to:',\n",
    "    disabled=False\n",
    ")\n",
    "\n",
    "l_val = widgets.IntText(\n",
    "    value=180,\n",
    "    description='l (deg)',\n",
    "    disabled=False\n",
    ")\n",
    "\n",
    "n_val = widgets.IntText(\n",
    "    value=50,\n",
    "    description='n (detectors)',\n",
    "    disabled=False\n",
    ")\n",
    "\n",
    "step = widgets.IntText(\n",
    "    value=2,\n",
    "    description='∆α (deg)',\n",
    "    disabled=False\n",
    ")\n",
    "\n",
    "run_button = widgets.Button(\n",
    "    description='Run',\n",
    "    disabled=False,\n",
    "    button_style='success', # 'success', 'info', 'warning', 'danger' or ''\n",
    ")\n",
    "\n",
    "clear_button = widgets.Button(\n",
    "    description='Clear',\n",
    "    disabled=False,\n",
    "    button_style='info', # 'success', 'info', 'warning', 'danger' or ''\n",
    ")\n",
    "\n",
    "filtering_checkbox = widgets.Checkbox(\n",
    "    value=False,\n",
    "    description='filtering',\n",
    "    disabled=False\n",
    ")\n",
    "\n",
    "show_intermediate_steps = widgets.Checkbox(\n",
    "    value=False,\n",
    "    description='show intermediate steps',\n",
    "    disabled=False\n",
    ")\n",
    "\n",
    "def show_img(img):\n",
    "    fig = plt.figure(figsize=(8, 8))\n",
    "    plt.imshow(img, cmap='gray')\n",
    "    plt.show()\n",
    "\n",
    "    \n",
    "def display_interface():\n",
    "    display(filename_text)\n",
    "    display(x_dim)\n",
    "    display(y_dim)\n",
    "    display(l_val)\n",
    "    display(n_val)\n",
    "    display(step)\n",
    "    display(filtering_checkbox)\n",
    "    display(show_intermediate_steps)\n",
    "    display(run_button)\n",
    "    \n",
    "def clear(arg):\n",
    "    clear_output(True)\n",
    "    display_interface()\n",
    "    \n",
    "    \n",
    "def transform_without_intermediate_steps():\n",
    "    print(\"Reading an image...\")\n",
    "    img = plt.imread(filename_text.value)\n",
    "    show_img(img)\n",
    "    img = cv2.resize(img,(x_dim.value,y_dim.value))\n",
    "    print(\"Generating sinogram...\")\n",
    "    sinogram, lines = gen_sinogram(n_val.value, l_val.value, step.value, img)\n",
    "    show_img(sinogram)   \n",
    "    print(\"Backprojection without convolution...\")\n",
    "    restored = restore_picture(sinogram, lines, img.shape)\n",
    "    show_img(restored)\n",
    "    if filtering_checkbox.value == True:\n",
    "        print(\"Performing convolution...\")\n",
    "        convolved_sinogram = convolve_simple(sinogram, [-2,5.5,-2])\n",
    "        copy = convolved_sinogram.copy()\n",
    "        convolved_sinogram = convolved_sinogram / convolved_sinogram.max()\n",
    "        convolved_sinogram[copy < 0] = 0\n",
    "        print(\"Convolved sinogram:\")\n",
    "        show_img(convolved_sinogram)\n",
    "        print(\"Backprojection from convolved sinogram...\")\n",
    "        restored = restore_picture(convolved_sinogram, lines, img.shape)\n",
    "        show_img(restored)\n",
    "        print(\"Gamma correction:\")\n",
    "        restored = restored ** 2\n",
    "        restored = restored / restored.max()\n",
    "        restored = restored * 255\n",
    "        show_img(restored)\n",
    "    \n",
    "def transform_interactively():   \n",
    "    print(\"Reading an image...\")\n",
    "    img = plt.imread(filename_text.value)\n",
    "    show_img(img)\n",
    "    img = cv2.resize(img,(x_dim.value,y_dim.value))\n",
    "    print(\"Generating sinogram...\")\n",
    "    sinogram, lines = gen_sinogram(n_val.value, l_val.value, step.value, img)\n",
    "    show_img(sinogram)   \n",
    "    print(\"Backprojection without convolution...\")\n",
    "    restored = restore_picture(sinogram, lines, img.shape)\n",
    "    show_img(restored)\n",
    "    if filtering_checkbox.value == True:\n",
    "        print(\"Performing convolution...\")\n",
    "        convolved_sinogram = convolve_simple(sinogram, [-2,5.5,-2])\n",
    "        copy = convolved_sinogram.copy()\n",
    "        convolved_sinogram = convolved_sinogram / convolved_sinogram.max()\n",
    "        convolved_sinogram[copy < 0] = 0\n",
    "        print(\"Convolved sinogram:\")\n",
    "        show_img(convolved_sinogram)\n",
    "        print(\"Backprojection from convolved sinogram...\")\n",
    "        restored = restore_picture(convolved_sinogram, lines, img.shape)\n",
    "        show_img(restored)\n",
    "        print(\"Gamma correction:\")\n",
    "        restored = restored ** 2\n",
    "        restored = restored / restored.max()\n",
    "        restored = restored * 255\n",
    "        show_img(restored)\n",
    "    \n",
    "def run_transformation(arg):\n",
    "    if show_intermediate_steps.value == True:\n",
    "        transform_interactively()\n",
    "    else:\n",
    "        transform_without_intermediate_steps()\n",
    "    display(clear_button)\n",
    "\n",
    "display_interface()\n",
    "clear_button.on_click(clear)\n",
    "run_button.on_click(run_transformation)"
   ]
  },
  {
   "cell_type": "markdown",
   "metadata": {},
   "source": [
    "# Tests"
   ]
  },
  {
   "cell_type": "code",
   "execution_count": 5,
   "metadata": {},
   "outputs": [],
   "source": [
    "filename = 'img/skull3.JPG'\n",
    "\n",
    "def perform2(with_conv = True, alpha = 2, det_num = 100, l=180, gamma=2):\n",
    "    img = plt.imread(filename)\n",
    "    img = cv2.resize(img,(100,100))\n",
    "    sinogram, lines = gen_sinogram(det_num, l, alpha, img)\n",
    "    restored = restore_picture(sinogram, lines, img.shape)\n",
    "    \n",
    "    if with_conv:\n",
    "        sinogram = convolve_simple(sinogram, [-2,5.5,-2])\n",
    "    \n",
    "    restored = restore_picture(sinogram, lines, img.shape)\n",
    "    restored = restored ** gamma\n",
    "    restored = restored / restored.max()\n",
    "    restored = restored * 255\n",
    "    return img, restored\n",
    "\n",
    "def calc_mean_squared_error(org_img, restored_img):\n",
    "    squares_sum = 0\n",
    "    squares_sum = sum([(p1 - p2)**2 for (p1, p2) in zip(org_img.flatten(), restored_img.flatten())])\n",
    "    err = squares_sum / (org_img.shape[0] * org_img.shape[1])\n",
    "    return err\n",
    "\n",
    "def test_on_alpha(alpha_min, alpha_max, step = 1):\n",
    "    alphas = np.linspace(alpha_min, alpha_max, ((alpha_max-alpha_min+1)/step))\n",
    "    errors = []\n",
    "    for alpha in alphas:\n",
    "        print(\"alpha=\",alpha)\n",
    "        org, res = perform2(alpha=int(alpha))\n",
    "        org = cv2.cvtColor(org, cv2.COLOR_BGR2GRAY)\n",
    "        err = calc_mean_squared_error(org, res)\n",
    "        errors.append(err)\n",
    "    return alphas, errors\n",
    "        \n",
    "\n",
    "def test_on_detectors_number(det_min, det_max, step = 1):\n",
    "    detectors = np.linspace(det_min, det_max, ((det_max-det_min+1)/step))\n",
    "    errors = []\n",
    "    for det in detectors:\n",
    "        print(\"detectors=\",det)\n",
    "        org, res = perform2(det_num=int(det))\n",
    "        org = cv2.cvtColor(org, cv2.COLOR_BGR2GRAY)\n",
    "        err = calc_mean_squared_error(org, res)\n",
    "        errors.append(err)\n",
    "    return detectors, errors\n",
    "\n",
    "def test_on_length(with_conv, l_min, l_max, step = 1):\n",
    "    pass\n",
    "\n",
    "def test_on_iter():\n",
    "    pass"
   ]
  },
  {
   "cell_type": "code",
   "execution_count": 6,
   "metadata": {},
   "outputs": [
    {
     "name": "stderr",
     "output_type": "stream",
     "text": [
      "C:\\Users\\Jacek\\Anaconda3\\envs\\python-cvcourse\\lib\\site-packages\\ipykernel_launcher.py:25: DeprecationWarning: object of type <class 'float'> cannot be safely interpreted as an integer.\n"
     ]
    },
    {
     "name": "stdout",
     "output_type": "stream",
     "text": [
      "alpha= 1.0\n",
      "alpha= 2.0\n",
      "alpha= 3.0\n",
      "alpha= 4.0\n",
      "alpha= 5.0\n",
      "alpha= 6.0\n",
      "alpha= 7.0\n",
      "alpha= 8.0\n",
      "alpha= 9.0\n",
      "alpha= 10.0\n",
      "alpha= 11.0\n",
      "alpha= 12.0\n",
      "alpha= 13.0\n",
      "alpha= 14.0\n",
      "alpha= 15.0\n",
      "alpha= 16.0\n",
      "alpha= 17.0\n",
      "alpha= 18.0\n",
      "alpha= 19.0\n",
      "alpha= 20.0\n",
      "alpha= 21.0\n",
      "alpha= 22.0\n",
      "alpha= 23.0\n",
      "alpha= 24.0\n",
      "alpha= 25.0\n",
      "alpha= 26.0\n",
      "alpha= 27.0\n",
      "alpha= 28.0\n",
      "alpha= 29.0\n",
      "alpha= 30.0\n",
      "alpha= 31.0\n",
      "alpha= 32.0\n",
      "alpha= 33.0\n",
      "alpha= 34.0\n",
      "alpha= 35.0\n",
      "alpha= 36.0\n",
      "alpha= 37.0\n",
      "alpha= 38.0\n",
      "alpha= 39.0\n",
      "alpha= 40.0\n",
      "alpha= 41.0\n",
      "alpha= 42.0\n",
      "alpha= 43.0\n",
      "alpha= 44.0\n",
      "alpha= 45.0\n",
      "alpha= 46.0\n",
      "alpha= 47.0\n",
      "alpha= 48.0\n",
      "alpha= 49.0\n",
      "alpha= 50.0\n",
      "alpha= 51.0\n",
      "alpha= 52.0\n",
      "alpha= 53.0\n",
      "alpha= 54.0\n",
      "alpha= 55.0\n",
      "alpha= 56.0\n",
      "alpha= 57.0\n",
      "alpha= 58.0\n",
      "alpha= 59.0\n",
      "alpha= 60.0\n",
      "alpha= 61.0\n",
      "alpha= 62.0\n",
      "alpha= 63.0\n",
      "alpha= 64.0\n",
      "alpha= 65.0\n",
      "alpha= 66.0\n",
      "alpha= 67.0\n",
      "alpha= 68.0\n",
      "alpha= 69.0\n",
      "alpha= 70.0\n",
      "alpha= 71.0\n",
      "alpha= 72.0\n",
      "alpha= 73.0\n",
      "alpha= 74.0\n",
      "alpha= 75.0\n",
      "alpha= 76.0\n",
      "alpha= 77.0\n",
      "alpha= 78.0\n",
      "alpha= 79.0\n",
      "alpha= 80.0\n",
      "alpha= 81.0\n",
      "alpha= 82.0\n",
      "alpha= 83.0\n",
      "alpha= 84.0\n",
      "alpha= 85.0\n",
      "alpha= 86.0\n",
      "alpha= 87.0\n",
      "alpha= 88.0\n",
      "alpha= 89.0\n",
      "alpha= 90.0\n",
      "alpha= 91.0\n",
      "alpha= 92.0\n",
      "alpha= 93.0\n",
      "alpha= 94.0\n",
      "alpha= 95.0\n",
      "alpha= 96.0\n",
      "alpha= 97.0\n",
      "alpha= 98.0\n",
      "alpha= 99.0\n",
      "alpha= 100.0\n"
     ]
    },
    {
     "data": {
      "text/plain": [
       "[<matplotlib.lines.Line2D at 0x19723391f60>]"
      ]
     },
     "execution_count": 6,
     "metadata": {},
     "output_type": "execute_result"
    },
    {
     "data": {
      "image/png": "[encoded data removed]",
      "text/plain": [
       "<Figure size 432x288 with 1 Axes>"
      ]
     },
     "metadata": {
      "needs_background": "light"
     },
     "output_type": "display_data"
    }
   ],
   "source": [
    "a, e1 = test_on_alpha(1, 100)\n",
    "plt.plot(a,e1)"
   ]
  },
  {
   "cell_type": "code",
   "execution_count": null,
   "metadata": {},
   "outputs": [
    {
     "name": "stderr",
     "output_type": "stream",
     "text": [
      "C:\\Users\\Jacek\\Anaconda3\\envs\\python-cvcourse\\lib\\site-packages\\ipykernel_launcher.py:37: DeprecationWarning: object of type <class 'float'> cannot be safely interpreted as an integer.\n",
      "C:\\Users\\Jacek\\Anaconda3\\envs\\python-cvcourse\\lib\\site-packages\\ipykernel_launcher.py:79: RuntimeWarning: invalid value encountered in true_divide\n",
      "C:\\Users\\Jacek\\Anaconda3\\envs\\python-cvcourse\\lib\\site-packages\\numpy\\core\\_methods.py:28: RuntimeWarning: invalid value encountered in reduce\n",
      "  return umr_maximum(a, axis, None, out, keepdims, initial)\n"
     ]
    },
    {
     "name": "stdout",
     "output_type": "stream",
     "text": [
      "detectors= 1.0\n",
      "detectors= 2.0\n",
      "detectors= 3.0\n",
      "detectors= 4.0\n",
      "detectors= 5.0\n",
      "detectors= 6.0\n",
      "detectors= 7.0\n",
      "detectors= 8.0\n",
      "detectors= 9.0\n",
      "detectors= 10.0\n",
      "detectors= 11.0\n",
      "detectors= 12.0\n",
      "detectors= 13.0\n",
      "detectors= 14.0\n",
      "detectors= 15.0\n",
      "detectors= 16.0\n",
      "detectors= 17.0\n",
      "detectors= 18.0\n",
      "detectors= 19.0\n",
      "detectors= 20.0\n",
      "detectors= 21.0\n",
      "detectors= 22.0\n",
      "detectors= 23.0\n",
      "detectors= 24.0\n",
      "detectors= 25.0\n",
      "detectors= 26.0\n",
      "detectors= 27.0\n",
      "detectors= 28.0\n",
      "detectors= 29.0\n",
      "detectors= 30.0\n",
      "detectors= 31.0\n",
      "detectors= 32.0\n",
      "detectors= 33.0\n",
      "detectors= 34.0\n",
      "detectors= 35.0\n",
      "detectors= 36.0\n",
      "detectors= 37.0\n"
     ]
    }
   ],
   "source": [
    "d, e2 = test_on_detectors_number(1, 50)\n",
    "plt.plot(d,e2)"
   ]
  },
  {
   "cell_type": "code",
   "execution_count": null,
   "metadata": {},
   "outputs": [],
   "source": []
  }
 ],
 "metadata": {
  "kernelspec": {
   "display_name": "Python 3",
   "language": "python",
   "name": "python3"
  },
  "language_info": {
   "codemirror_mode": {
    "name": "ipython",
    "version": 3
   },
   "file_extension": ".py",
   "mimetype": "text/x-python",
   "name": "python",
   "nbconvert_exporter": "python",
   "pygments_lexer": "ipython3",
   "version": "3.6.6"
  }
 },
 "nbformat": 4,
 "nbformat_minor": 2
}
