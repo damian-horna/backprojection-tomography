{
 "cells": [
  {
   "cell_type": "code",
   "execution_count": 1,
   "metadata": {},
   "outputs": [],
   "source": [
    "import numpy as np\n",
    "import matplotlib.pyplot as plt\n",
    "import math\n",
    "import cv2\n",
    "import pydicom\n",
    "from pydicom.data import get_testdata_files\n",
    "from ipywidgets import widgets, Layout\n",
    "from IPython.display import display"
   ]
  },
  {
   "cell_type": "code",
   "execution_count": 72,
   "metadata": {},
   "outputs": [],
   "source": [
    "def bresenham(p0, p1):\n",
    "    pts = []\n",
    "    x0, y0 = p0\n",
    "    x1, y1 = p1\n",
    "\n",
    "    dx = abs(x1-x0)\n",
    "    dy = abs(y1-y0)\n",
    "    \n",
    "    if x0 < x1:\n",
    "        sx = 1\n",
    "    else:\n",
    "        sx = -1\n",
    "        \n",
    "    if y0 < y1:\n",
    "        sy = 1\n",
    "    else:\n",
    "        sy = -1\n",
    "        \n",
    "    err = dx-dy\n",
    "    while True:\n",
    "        pts.append((x0,y0))\n",
    "        if x0 == x1 and y0 == y1:\n",
    "            return pts\n",
    "        \n",
    "        e2 = 2*err\n",
    "        if e2 > -dy:\n",
    "            # overshot in the y direction\n",
    "            err = err - dy\n",
    "            x0 = x0 + sx\n",
    "        if e2 < dx:\n",
    "            # overshot in the x direction\n",
    "            err = err + dx\n",
    "            y0 = y0 + sy\n",
    "            \n",
    "            \n",
    "def rotate_line(line, origin, angle):\n",
    "    origin_x, origin_y = origin\n",
    "    rotated_line = []\n",
    "    for point in line:\n",
    "        x, y = point\n",
    "        rotated_x = int(origin_x + math.cos(angle) * (x - origin_x) - math.sin(angle) * (y - origin_y))\n",
    "        rotated_y = int(origin_y + math.sin(angle) * (x - origin_x) + math.cos(angle) * (y - origin_y))\n",
    "        rotated_line.append((rotated_x, rotated_y))\n",
    "    return rotated_line\n",
    "\n",
    "#generates emitters and detectors vertically\n",
    "def gen_emitters_and_detectors(n, angle, gray):\n",
    "    x,y = gray.shape\n",
    "    r=math.sqrt(x**2 + y**2)/2\n",
    "    l = int(2 * (r * math.sin((angle*math.pi/180)/2) ))\n",
    "    emitters = [(int(pos),int(y/2 + r)) for pos in np.linspace(int(x/2 - l/2), int(x/2 + l/2), n)]\n",
    "    detectors = [(int(pos),int(y/2 - r)) for pos in np.linspace(int(x/2 - l/2), int(x/2 + l/2), n)]\n",
    "    return emitters, detectors\n",
    "\n",
    "\n",
    "def gen_sinogram(n,angle, alphaStepDeg, img):\n",
    "    gray =  cv2.cvtColor(img, cv2.COLOR_BGR2GRAY)\n",
    "    x,y = gray.shape\n",
    "    lines = []\n",
    "    all_lines=[]\n",
    "    em, det = gen_emitters_and_detectors(n, angle, gray)\n",
    "    for p1,p2 in zip(em, det):\n",
    "        lines.append(bresenham(p1,p2))\n",
    "        \n",
    "    sinogram = np.zeros((n, int(360/alphaStepDeg)))\n",
    "    i=0\n",
    "    for alpha in range(0,360,alphaStepDeg):\n",
    "        rotated = [[(px ,py) for px,py in lines[0] if 0 < px < x and 0 < py < y]]\n",
    "        for line in lines:\n",
    "            rot_line = rotate_line(line, (int(x/2), int(y/2)), (alpha/180)*math.pi)\n",
    "            new_line = [(px ,py) for px,py in rot_line if 0 < px < x and 0 < py < y]\n",
    "            rotated.append(new_line)\n",
    "            \n",
    "        all_lines.append(rotated)\n",
    "        for j, line in enumerate(rotated):\n",
    "            sinogram[j,i] = sum([gray[point] for point in line])\n",
    "        i+=1\n",
    "        \n",
    "    sinogram = sinogram / sinogram.max()\n",
    "    return sinogram, all_lines\n",
    "\n",
    "def restore_picture(sinogram, lines, picture_shape):\n",
    "    x,y = picture_shape[0], picture_shape[1]\n",
    "    b = max(picture_shape)\n",
    "    \n",
    "    restoration = np.zeros((x,y)) \n",
    "    count_matrix = np.zeros((x,y))\n",
    "    \n",
    "    for i, lines_for_alpha in enumerate(lines):\n",
    "        for j, line in enumerate(lines_for_alpha):\n",
    "            for px, py in line:\n",
    "                    restoration[px,py] += sinogram[j, i]\n",
    "                    count_matrix[px,py] += 1\n",
    "                    \n",
    "    for i in range(count_matrix.shape[0]):\n",
    "        for j in range(count_matrix.shape[1]):\n",
    "            if count_matrix[i,j] != 0:\n",
    "                restoration[i,j] /= count_matrix[i,j]\n",
    "                \n",
    "    for i in range(restoration.shape[0]):\n",
    "        for j in range(restoration.shape[1]):\n",
    "            if restoration[i,j] < 0:\n",
    "                restoration[i,j] = 0\n",
    "    return restoration\n",
    "\n",
    "def conv1d(X,H):\n",
    "    m=len(X);\n",
    "    n=len(H);\n",
    "    Y = np.zeros(m+n-1)\n",
    "    for i in range(n + m -1):\n",
    "        Y[i]=0;\n",
    "        for j in range(m):\n",
    "            if i-j+1>0 and i-j+1<len(H):\n",
    "                Y[i]=Y[i]+X[j]*H[i-j+1]\n",
    "    return Y\n",
    "\n",
    "def conv1d_simple(sinus, simple_kernel):\n",
    "    copy = sinus.copy()\n",
    "    for i in range(1,len(sinus)-1):\n",
    "        copy[i] = simple_kernel[0]*sinus[i-1] + simple_kernel[1] *sinus[i] + simple_kernel[2]*sinus[i+1]\n",
    "    return copy\n",
    "\n",
    "\n",
    "def genKernel(size):\n",
    "    kernel = []\n",
    "    for i in range(-int(size/2), int(size/2)):\n",
    "        if i == 0:\n",
    "            kernel.append(1)\n",
    "        elif i % 2 == 0:\n",
    "            kernel.append(0)\n",
    "        else:\n",
    "            kernel.append((-4/(math.pi**2))/i**2)    \n",
    "    return kernel\n",
    "\n",
    "def convolve_sinogram(sinogram):\n",
    "    copy = np.zeros(sinogram.shape)\n",
    "    for i in range(sinogram.shape[1]):\n",
    "        convolution = conv1d(sinogram[:,i], genKernel(len(sinogram[:,i])))\n",
    "        convolution = np.append(convolution, 0)\n",
    "        copy[:,i] = convolution.reshape(-1, 2).mean(axis=1)\n",
    "    return copy\n",
    "\n",
    "\n",
    "def convolve_simple(sinogram, simple_kernel):\n",
    "    copy = np.zeros(sinogram.shape)\n",
    "    for i in range(sinogram.shape[1]):\n",
    "        convolution = conv1d_simple(sinogram[:,i], simple_kernel)\n",
    "        copy[:,i] = convolution\n",
    "    return copy"
   ]
  },
  {
   "cell_type": "code",
   "execution_count": 101,
   "metadata": {},
   "outputs": [
    {
     "data": {
      "application/vnd.jupyter.widget-view+json": {
       "model_id": "b5df399d483144239274917510e50d1d",
       "version_major": 2,
       "version_minor": 0
      },
      "text/plain": [
       "Text(value='img/dot.jpg', placeholder='filename')"
      ]
     },
     "metadata": {},
     "output_type": "display_data"
    },
    {
     "data": {
      "application/vnd.jupyter.widget-view+json": {
       "model_id": "88bed4c2bb154ff8b2d8fcf4ecc9df9d",
       "version_major": 2,
       "version_minor": 0
      },
      "text/plain": [
       "IntText(value=100, description='resize x_dim to:')"
      ]
     },
     "metadata": {},
     "output_type": "display_data"
    },
    {
     "data": {
      "application/vnd.jupyter.widget-view+json": {
       "model_id": "9246167fc8404947aacfa2c088b94804",
       "version_major": 2,
       "version_minor": 0
      },
      "text/plain": [
       "IntText(value=100, description='resize y_dim to:')"
      ]
     },
     "metadata": {},
     "output_type": "display_data"
    },
    {
     "data": {
      "application/vnd.jupyter.widget-view+json": {
       "model_id": "c0229736612b44c5a6ae1921d840815d",
       "version_major": 2,
       "version_minor": 0
      },
      "text/plain": [
       "IntText(value=180, description='l (deg)')"
      ]
     },
     "metadata": {},
     "output_type": "display_data"
    },
    {
     "data": {
      "application/vnd.jupyter.widget-view+json": {
       "model_id": "632ced52d7994c73811ab18299efa7a0",
       "version_major": 2,
       "version_minor": 0
      },
      "text/plain": [
       "IntText(value=80, description='n (detectors)')"
      ]
     },
     "metadata": {},
     "output_type": "display_data"
    },
    {
     "data": {
      "application/vnd.jupyter.widget-view+json": {
       "model_id": "48b277773ffd45df8b5357e398cf8459",
       "version_major": 2,
       "version_minor": 0
      },
      "text/plain": [
       "IntText(value=1, description='∆α (deg)')"
      ]
     },
     "metadata": {},
     "output_type": "display_data"
    },
    {
     "data": {
      "application/vnd.jupyter.widget-view+json": {
       "model_id": "0fc50ae858b44b839166322b6a4f3513",
       "version_major": 2,
       "version_minor": 0
      },
      "text/plain": [
       "Button(button_style='success', description='Run', style=ButtonStyle())"
      ]
     },
     "metadata": {},
     "output_type": "display_data"
    },
    {
     "name": "stdout",
     "output_type": "stream",
     "text": [
      "Reading an image...\n"
     ]
    },
    {
     "data": {
      "image/png": "[encoded data removed]",
      "text/plain": [
       "<Figure size 576x576 with 1 Axes>"
      ]
     },
     "metadata": {
      "needs_background": "light"
     },
     "output_type": "display_data"
    },
    {
     "name": "stdout",
     "output_type": "stream",
     "text": [
      "Generating sinogram...\n"
     ]
    }
   ],
   "source": [
    "filename_text = widgets.Text(\n",
    "    placeholder='filename',\n",
    "    disabled=False,\n",
    "    value='img/dot.jpg'\n",
    ")\n",
    "\n",
    "x_dim = widgets.IntText(\n",
    "    value=100,\n",
    "    description='resize x_dim to:',\n",
    "    disabled=False\n",
    ")\n",
    "\n",
    "y_dim = widgets.IntText(\n",
    "    value=100,\n",
    "    description='resize y_dim to:',\n",
    "    disabled=False\n",
    ")\n",
    "\n",
    "l_val = widgets.IntText(\n",
    "    value=180,\n",
    "    description='l (deg)',\n",
    "    disabled=False\n",
    ")\n",
    "\n",
    "n_val = widgets.IntText(\n",
    "    value=80,\n",
    "    description='n (detectors)',\n",
    "    disabled=False\n",
    ")\n",
    "\n",
    "step = widgets.IntText(\n",
    "    value=1,\n",
    "    description='∆α (deg)',\n",
    "    disabled=False\n",
    ")\n",
    "\n",
    "run_button = widgets.Button(\n",
    "    description='Run',\n",
    "    disabled=False,\n",
    "    button_style='success', # 'success', 'info', 'warning', 'danger' or ''\n",
    ")\n",
    "\n",
    "def showImg(img):\n",
    "    fig = plt.figure(figsize=(8, 8))\n",
    "    plt.imshow(img, cmap='gray')\n",
    "    plt.show()\n",
    "\n",
    "    \n",
    "def perform(arg):\n",
    "    print(\"Reading an image...\")\n",
    "    img = plt.imread(filename_text.value)\n",
    "    showImg(img)\n",
    "    img = cv2.resize(img,(x_dim.value,y_dim.value))\n",
    "    print(\"Generating sinogram...\")\n",
    "    sinogram, lines = gen_sinogram(n_val.value, l_val.value, step.value, img)\n",
    "    showImg(sinogram)\n",
    "    print(\"Performing convolution...\")\n",
    "    copy = convolve_simple(sinogram, [-2,5.5,-2])\n",
    "    showImg(copy)\n",
    "    print(\"Performing backprojection...\")\n",
    "    restored = restore_picture(copy, lines, img.shape)\n",
    "    print(\"Without hist equalization\")\n",
    "    showImg(restored)\n",
    "    #restored = restored * 255\n",
    "    print(restored.max())\n",
    "    #restored = restored.astype(np.uint8)\n",
    "    #cv2.imwrite('tmp.jpg', restored)\n",
    "    restored = restored ** 3.5\n",
    "    #restored = np.resize(restored, restored.shape[:2] + (1,))\n",
    "    #restored = restored.astype(np.uint8)\n",
    "    #restored = restored / restored.max()\n",
    "    #restored *= 255\n",
    "    #restored = restored.astype(np.uint8)\n",
    "    #restored = cv2.equalizeHist(restored)\n",
    "    #restored = cv2.erode(restored, np.ones((3,3)), iterations = 1)\n",
    "    #restored = cv2.medianBlur(restored, 3)\n",
    "    print(restored.max())\n",
    "    print(restored.min())\n",
    "    showImg(restored)\n",
    "\n",
    "display(filename_text)\n",
    "display(x_dim)\n",
    "display(y_dim)\n",
    "display(l_val)\n",
    "display(n_val)\n",
    "display(step)\n",
    "display(run_button)\n",
    "run_button.on_click(perform)"
   ]
  },
  {
   "cell_type": "code",
   "execution_count": 44,
   "metadata": {},
   "outputs": [
    {
     "data": {
      "text/plain": [
       "<matplotlib.image.AxesImage at 0x2572ff08048>"
      ]
     },
     "execution_count": 44,
     "metadata": {},
     "output_type": "execute_result"
    },
    {
     "data": {
      "image/png": "[encoded data removed]",
      "text/plain": [
       "<Figure size 576x576 with 1 Axes>"
      ]
     },
     "metadata": {
      "needs_background": "light"
     },
     "output_type": "display_data"
    }
   ],
   "source": [
    "fig = plt.figure(figsize=(8,8))\n",
    "img = cv2.imread('tmp.jpg',0)\n",
    "img.shape\n",
    "img = img / img.max()\n",
    "img = img ** 2.8\n",
    "plt.imshow(img, cmap='gray')"
   ]
  },
  {
   "cell_type": "code",
   "execution_count": null,
   "metadata": {},
   "outputs": [],
   "source": []
  },
  {
   "cell_type": "code",
   "execution_count": null,
   "metadata": {},
   "outputs": [],
   "source": []
  },
  {
   "cell_type": "code",
   "execution_count": null,
   "metadata": {},
   "outputs": [],
   "source": []
  },
  {
   "cell_type": "code",
   "execution_count": null,
   "metadata": {},
   "outputs": [],
   "source": []
  },
  {
   "cell_type": "code",
   "execution_count": null,
   "metadata": {},
   "outputs": [],
   "source": []
  }
 ],
 "metadata": {
  "kernelspec": {
   "display_name": "Python 3",
   "language": "python",
   "name": "python3"
  },
  "language_info": {
   "codemirror_mode": {
    "name": "ipython",
    "version": 3
   },
   "file_extension": ".py",
   "mimetype": "text/x-python",
   "name": "python",
   "nbconvert_exporter": "python",
   "pygments_lexer": "ipython3",
   "version": "3.6.6"
  }
 },
 "nbformat": 4,
 "nbformat_minor": 2
}
